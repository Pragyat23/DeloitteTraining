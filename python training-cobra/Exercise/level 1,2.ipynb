{
 "cells": [
  {
   "cell_type": "code",
   "execution_count": 2,
   "metadata": {},
   "outputs": [
    {
     "data": {
      "text/plain": [
       "'Write a code to display sum and average of two numbers. \\nThe average should be displayed as a  whole number (no decimal places) after calculation. '"
      ]
     },
     "execution_count": 2,
     "metadata": {},
     "output_type": "execute_result"
    }
   ],
   "source": [
    "\"\"\"1.Write a code to display sum and average of two numbers. \n",
    "The average should be displayed as a  whole number (no decimal places) after calculation. \"\"\""
   ]
  },
  {
   "cell_type": "code",
   "execution_count": 3,
   "metadata": {},
   "outputs": [
    {
     "name": "stdout",
     "output_type": "stream",
     "text": [
      "32\n",
      "16\n"
     ]
    }
   ],
   "source": [
    "vara=12\n",
    "varb=20\n",
    "sum=vara+varb\n",
    "avg=sum//2\n",
    "print(sum)\n",
    "print(avg)"
   ]
  },
  {
   "cell_type": "code",
   "execution_count": 4,
   "metadata": {},
   "outputs": [
    {
     "data": {
      "text/plain": [
       "'Write a program that prints out all the elements of the list (list of numbers)\\nthat are less than 5'"
      ]
     },
     "execution_count": 4,
     "metadata": {},
     "output_type": "execute_result"
    }
   ],
   "source": [
    "\"\"\"2.Write a program that prints out all the elements of the list (list of numbers)\n",
    "that are less than 5\"\"\""
   ]
  },
  {
   "cell_type": "code",
   "execution_count": 7,
   "metadata": {},
   "outputs": [
    {
     "name": "stdout",
     "output_type": "stream",
     "text": [
      "2\n",
      "1\n"
     ]
    }
   ],
   "source": [
    "lista=[2,22.5,1,10,58]\n",
    "for i in lista:\n",
    "    if(i<5):\n",
    "        print(i)\n",
    "    "
   ]
  },
  {
   "cell_type": "code",
   "execution_count": 133,
   "metadata": {},
   "outputs": [
    {
     "name": "stdout",
     "output_type": "stream",
     "text": [
      "220\n",
      "div by 10\n"
     ]
    }
   ],
   "source": [
    "'''3.\tGiven a number check if it is even or odd, if it’s divisible by\n",
    "ten then display a different message. '''\n",
    "\n",
    "\n",
    "n=int(input())\n",
    "if n%2==1:\n",
    "    print('odd')\n",
    "elif n%10==0:\n",
    "    print(\"div by 10\")\n",
    "else:\n",
    "    print(\"even\")"
   ]
  },
  {
   "cell_type": "code",
   "execution_count": 134,
   "metadata": {},
   "outputs": [
    {
     "name": "stdout",
     "output_type": "stream",
     "text": [
      "sum=  504\n"
     ]
    }
   ],
   "source": [
    "\"\"\"\n",
    "4.\tWrite a program to calculate & display product of two integers. \n",
    "If the product is greater than 500 then display their sum. \n",
    "\"\"\"\n",
    "a,b=4,500\n",
    "prod=a*b\n",
    "if(prod>500):\n",
    "    sum=a+b\n",
    "    print(\"sum= \",sum)\n",
    "else:\n",
    "    print(\"product= \",prod)"
   ]
  },
  {
   "cell_type": "code",
   "execution_count": 8,
   "metadata": {},
   "outputs": [
    {
     "data": {
      "text/plain": [
       "'Given a starting number as 4 and ending number as 20, \\niterate over the range of numbers and print the sum of current number and previous number.'"
      ]
     },
     "execution_count": 8,
     "metadata": {},
     "output_type": "execute_result"
    }
   ],
   "source": [
    "\"\"\"5.Given a starting number as 4 and ending number as 20, \n",
    "iterate over the range of numbers and print the sum of current number and previous number.\"\"\" "
   ]
  },
  {
   "cell_type": "code",
   "execution_count": 12,
   "metadata": {},
   "outputs": [
    {
     "name": "stdout",
     "output_type": "stream",
     "text": [
      "sum of 4 and 0 is 4\n",
      "sum of 5 and 4 is 9\n",
      "sum of 6 and 5 is 11\n",
      "sum of 7 and 6 is 13\n",
      "sum of 8 and 7 is 15\n",
      "sum of 9 and 8 is 17\n",
      "sum of 10 and 9 is 19\n",
      "sum of 11 and 10 is 21\n",
      "sum of 12 and 11 is 23\n",
      "sum of 13 and 12 is 25\n",
      "sum of 14 and 13 is 27\n",
      "sum of 15 and 14 is 29\n",
      "sum of 16 and 15 is 31\n",
      "sum of 17 and 16 is 33\n",
      "sum of 18 and 17 is 35\n",
      "sum of 19 and 18 is 37\n",
      "sum of 20 and 19 is 39\n"
     ]
    }
   ],
   "source": [
    "prev=0\n",
    "for i in range(4,21):\n",
    "    sum=i+prev\n",
    "    print('sum of',i,'and',prev,'is',sum)\n",
    "    prev=i"
   ]
  },
  {
   "cell_type": "code",
   "execution_count": 13,
   "metadata": {},
   "outputs": [
    {
     "data": {
      "text/plain": [
       "'Write a Python program to test whether a passed letter is a vowel or not.'"
      ]
     },
     "execution_count": 13,
     "metadata": {},
     "output_type": "execute_result"
    }
   ],
   "source": [
    "\"\"\"6.Write a Python program to test whether a passed letter is a vowel or not.\"\"\""
   ]
  },
  {
   "cell_type": "code",
   "execution_count": 18,
   "metadata": {},
   "outputs": [
    {
     "name": "stdout",
     "output_type": "stream",
     "text": [
      "Enter a letter: a\n",
      "a\n",
      "vowel\n"
     ]
    }
   ],
   "source": [
    "v=input('Enter a letter: ')\n",
    "v=v.lower()\n",
    "print(v)\n",
    "if(v=='a'or v=='e'or v=='i'or v=='o'or v=='u'):\n",
    "    print ('vowel')\n",
    "else:\n",
    "    print('not a vowel')\n"
   ]
  },
  {
   "cell_type": "code",
   "execution_count": 19,
   "metadata": {},
   "outputs": [
    {
     "data": {
      "text/plain": [
       "'Given a string, display only those characters\\nwhich are present at the even index. '"
      ]
     },
     "execution_count": 19,
     "metadata": {},
     "output_type": "execute_result"
    }
   ],
   "source": [
    "\"\"\"7.Given a string, display only those characters\n",
    "which are present at the even index. \"\"\""
   ]
  },
  {
   "cell_type": "code",
   "execution_count": 32,
   "metadata": {},
   "outputs": [
    {
     "name": "stdout",
     "output_type": "stream",
     "text": [
      "enter string:hello\n",
      "h\n",
      "l\n",
      "o\n"
     ]
    }
   ],
   "source": [
    "stra =input('enter string:')\n",
    "for i in range(0,len(stra)):\n",
    "    if i%2==0:\n",
    "        print(stra[i])\n",
    "        \n",
    "        "
   ]
  },
  {
   "cell_type": "code",
   "execution_count": 132,
   "metadata": {},
   "outputs": [
    {
     "name": "stdout",
     "output_type": "stream",
     "text": [
      "100\n",
      "50\n",
      "20\n",
      "330\n"
     ]
    }
   ],
   "source": [
    "'''9.\tGiven a list of numbers, iterate it and print only those numbers which are divisible of 10'''\n",
    "\n",
    "\n",
    "l=[24,100,54,50,20,98,330]\n",
    "for i in l:\n",
    "    if(i%10==0):\n",
    "        print(i)"
   ]
  },
  {
   "cell_type": "code",
   "execution_count": 127,
   "metadata": {},
   "outputs": [
    {
     "data": {
      "text/plain": [
       "'10.\\tGiven a list of integers, find if the first & last elements of the list are same. '"
      ]
     },
     "execution_count": 127,
     "metadata": {},
     "output_type": "execute_result"
    }
   ],
   "source": [
    "'''10.\tGiven a list of integers, find if the first & last elements of the list are same. '''"
   ]
  },
  {
   "cell_type": "code",
   "execution_count": 128,
   "metadata": {},
   "outputs": [
    {
     "name": "stdout",
     "output_type": "stream",
     "text": [
      "first and last element are not same\n"
     ]
    }
   ],
   "source": [
    "la=[10,34,12,78,12,89,10,9]\n",
    "if(la[0]==la[-1]):\n",
    "    print(\"first and last elements are same\")\n",
    "else:\n",
    "    print(\"first and last element are not same\")"
   ]
  },
  {
   "cell_type": "code",
   "execution_count": 31,
   "metadata": {},
   "outputs": [
    {
     "data": {
      "text/plain": [
       "'Replace all spaces in a string with an underscore.'"
      ]
     },
     "execution_count": 31,
     "metadata": {},
     "output_type": "execute_result"
    }
   ],
   "source": [
    "\"\"\"Replace all spaces in a string with an underscore.\"\"\" "
   ]
  },
  {
   "cell_type": "code",
   "execution_count": 37,
   "metadata": {},
   "outputs": [
    {
     "name": "stdout",
     "output_type": "stream",
     "text": [
      "hello_world_program\n"
     ]
    }
   ],
   "source": [
    "str='hello world program'\n",
    "str=str.replace(' ','_')\n",
    "print(str)"
   ]
  },
  {
   "cell_type": "code",
   "execution_count": 39,
   "metadata": {},
   "outputs": [
    {
     "data": {
      "text/plain": [
       "'Write a code to check if the given string is palindrome or not'"
      ]
     },
     "execution_count": 39,
     "metadata": {},
     "output_type": "execute_result"
    }
   ],
   "source": [
    "\"\"\"Write a code to check if the given string is palindrome or not\"\"\""
   ]
  },
  {
   "cell_type": "code",
   "execution_count": 51,
   "metadata": {},
   "outputs": [
    {
     "name": "stdout",
     "output_type": "stream",
     "text": [
      "Enter a string : Malayalam\n",
      "Palindrome is : malayalaM\n"
     ]
    }
   ],
   "source": [
    "str=input('Enter a string : ')\n",
    "#str=str[len(str)::-1]\n",
    "str=str[::-1]   #starts with end,goes till 0 with -1 step\n",
    "print('Palindrome is :',str)"
   ]
  },
  {
   "cell_type": "code",
   "execution_count": 52,
   "metadata": {},
   "outputs": [
    {
     "data": {
      "text/plain": [
       "'Write a code to generate Fibonacci series till nth  number. '"
      ]
     },
     "execution_count": 52,
     "metadata": {},
     "output_type": "execute_result"
    }
   ],
   "source": [
    "\"\"\"Write a code to generate Fibonacci series till nth  number. \"\"\""
   ]
  },
  {
   "cell_type": "code",
   "execution_count": 56,
   "metadata": {},
   "outputs": [
    {
     "name": "stdout",
     "output_type": "stream",
     "text": [
      "Enter nth number : 5\n",
      "0 1 1 2 3 5 "
     ]
    }
   ],
   "source": [
    "val=eval(input('Enter nth number : '))\n",
    "a,b,c=0,1,1\n",
    "print(a,b,end=' ')\n",
    "while c<=val:\n",
    "    print(c,end=' ')\n",
    "    a,b=b,c\n",
    "    c=a+b\n",
    "    "
   ]
  },
  {
   "cell_type": "code",
   "execution_count": 57,
   "metadata": {},
   "outputs": [
    {
     "data": {
      "text/plain": [
       "'14.\\tGiven 2 strings, stra and strb, create a new string by appending strb in the middle of stra'"
      ]
     },
     "execution_count": 57,
     "metadata": {},
     "output_type": "execute_result"
    }
   ],
   "source": [
    "'''14.\tGiven 2 strings, stra and strb, create a new string by appending strb in the middle of stra'''"
   ]
  },
  {
   "cell_type": "code",
   "execution_count": 62,
   "metadata": {},
   "outputs": [
    {
     "name": "stdout",
     "output_type": "stream",
     "text": [
      "string 1: elephant\n",
      "string 2: CAT\n",
      "MID :  elepCAThant\n"
     ]
    }
   ],
   "source": [
    "stra=input('string 1: ')\n",
    "strb=input('string 2: ')\n",
    "la=len(stra)\n",
    "l=la//2\n",
    "stra1=stra[0:l]\n",
    "stra2=stra[l:la]\n",
    "strc=stra1+strb+stra2\n",
    "print('MID : ',strc)"
   ]
  },
  {
   "cell_type": "code",
   "execution_count": 63,
   "metadata": {},
   "outputs": [
    {
     "data": {
      "text/plain": [
       "'15.\\tWrite a code to print the following pattern using a loop:\\n1 \\n1\\t2\\n1\\t2\\t3\\n1\\t2\\t3\\t4\\n1\\t2\\t3\\t4\\t5\\n'"
      ]
     },
     "execution_count": 63,
     "metadata": {},
     "output_type": "execute_result"
    }
   ],
   "source": [
    "'''15.\tWrite a code to print the following pattern using a loop:\n",
    "1 \n",
    "1\t2\n",
    "1\t2\t3\n",
    "1\t2\t3\t4\n",
    "1\t2\t3\t4\t5\n",
    "'''"
   ]
  },
  {
   "cell_type": "code",
   "execution_count": 71,
   "metadata": {},
   "outputs": [
    {
     "name": "stdout",
     "output_type": "stream",
     "text": [
      "1\t\n",
      "\n",
      "1\t2\t\n",
      "\n",
      "1\t2\t3\t\n",
      "\n",
      "1\t2\t3\t4\t\n",
      "\n",
      "1\t2\t3\t4\t5\t\n",
      "\n"
     ]
    }
   ],
   "source": [
    "for i in range(1,6):\n",
    "    for j in range(1,i+1):\n",
    "        print(j,end='\\t')\n",
    "    print('\\n')"
   ]
  },
  {
   "cell_type": "code",
   "execution_count": 72,
   "metadata": {},
   "outputs": [
    {
     "data": {
      "text/plain": [
       "'16.\\tGiven a huge string, display only the first 25% (aprox) of character. '"
      ]
     },
     "execution_count": 72,
     "metadata": {},
     "output_type": "execute_result"
    }
   ],
   "source": [
    "'''16.\tGiven a huge string, display only the first 25% (aprox) of character. '''"
   ]
  },
  {
   "cell_type": "code",
   "execution_count": 74,
   "metadata": {},
   "outputs": [
    {
     "name": "stdout",
     "output_type": "stream",
     "text": [
      "Enter string : greater good\n",
      "gre\n"
     ]
    }
   ],
   "source": [
    "str=input('Enter string : ')\n",
    "l=len(str)\n",
    "lnew=l//4\n",
    "print(str[:lnew])"
   ]
  },
  {
   "cell_type": "code",
   "execution_count": 129,
   "metadata": {},
   "outputs": [
    {
     "data": {
      "text/plain": [
       "'17.\\tGiven a list of numbers, if the size of list is odd, then display the center most number. If the size of list is even then display average of the two numbers ate the center.  '"
      ]
     },
     "execution_count": 129,
     "metadata": {},
     "output_type": "execute_result"
    }
   ],
   "source": [
    "'''17.\tGiven a list of numbers, if the size of list is odd, then display the center most number.\n",
    "If the size of list is even then display average of the two numbers ate the center.  '''"
   ]
  },
  {
   "cell_type": "code",
   "execution_count": 130,
   "metadata": {},
   "outputs": [
    {
     "name": "stdout",
     "output_type": "stream",
     "text": [
      "30.0\n"
     ]
    }
   ],
   "source": [
    "l1=[12,34,50,10,12,45]\n",
    "mid=len(l1)//2\n",
    "if(len(l1)%2 != 0):\n",
    "    print(l1[mid])\n",
    "else:\n",
    "    avg=(l1[mid]+l1[mid-1])/2\n",
    "    print(avg)"
   ]
  },
  {
   "cell_type": "code",
   "execution_count": 76,
   "metadata": {},
   "outputs": [
    {
     "data": {
      "text/plain": [
       "'18.\\tTake two lists and write a program that returns a list that contains only \\nthe elements that are common between the two lists (without duplicates). '"
      ]
     },
     "execution_count": 76,
     "metadata": {},
     "output_type": "execute_result"
    }
   ],
   "source": [
    "'''18.\tTake two lists and write a program that returns a list that contains only \n",
    "the elements that are common between the two lists (without duplicates). '''"
   ]
  },
  {
   "cell_type": "code",
   "execution_count": 83,
   "metadata": {},
   "outputs": [
    {
     "name": "stdout",
     "output_type": "stream",
     "text": [
      "['red', 'green', 'black']\n"
     ]
    }
   ],
   "source": [
    "l1=['red','green','blue','black','yellow']\n",
    "l2=['black','green','pink','black','red','brown']\n",
    "l=[]\n",
    "for val1 in l1:\n",
    "    if val1 in l2 and val1 not in l:\n",
    "        l.append(val1)\n",
    "print(l)"
   ]
  },
  {
   "cell_type": "code",
   "execution_count": 84,
   "metadata": {},
   "outputs": [
    {
     "data": {
      "text/plain": [
       "'19.\\tWrite a code to check if a given year is leap year or not. '"
      ]
     },
     "execution_count": 84,
     "metadata": {},
     "output_type": "execute_result"
    }
   ],
   "source": [
    "'''19.\tWrite a code to check if a given year is leap year or not. '''"
   ]
  },
  {
   "cell_type": "code",
   "execution_count": 88,
   "metadata": {},
   "outputs": [
    {
     "name": "stdout",
     "output_type": "stream",
     "text": [
      "Enter a year: 1900\n",
      "1900 is not a leap year\n"
     ]
    }
   ],
   "source": [
    "year = int(input(\"Enter a year: \"))  \n",
    "if(year%4==0):\n",
    "    if(year%100==0):\n",
    "        if(year%400==0):\n",
    "            print(\"{0} is a leap year\".format(year))\n",
    "        else:\n",
    "            print(\"{0} is not a leap year\".format(year))\n",
    "    else:\n",
    "        print(\"{0} is a leap year\".format(year))\n",
    "else:\n",
    "    print(\"{0} is not a leap year\".format(year))"
   ]
  },
  {
   "cell_type": "code",
   "execution_count": 89,
   "metadata": {},
   "outputs": [
    {
     "data": {
      "text/plain": [
       "'20.\\tWrite a code to check if the given number is prime or not.'"
      ]
     },
     "execution_count": 89,
     "metadata": {},
     "output_type": "execute_result"
    }
   ],
   "source": [
    "'''20.\tWrite a code to check if the given number is prime or not.'''"
   ]
  },
  {
   "cell_type": "code",
   "execution_count": 96,
   "metadata": {},
   "outputs": [
    {
     "name": "stdout",
     "output_type": "stream",
     "text": [
      "Enter a no. : 5\n",
      "it's a prime no.\n"
     ]
    }
   ],
   "source": [
    "n=eval(input('Enter a no. : '))\n",
    "if n>1:\n",
    "    for i in range(2,n//2):\n",
    "        if(n%i==0):\n",
    "            print(\"not a prime no.\")\n",
    "            break\n",
    "    else:\n",
    "        print(\"it's a prime no.\")"
   ]
  },
  {
   "cell_type": "code",
   "execution_count": 97,
   "metadata": {},
   "outputs": [
    {
     "data": {
      "text/plain": [
       "'21.\\tWrite a code to extract all values from a multi-level nested dictionary. \\nIt should work for any level and should display only values and not keys'"
      ]
     },
     "execution_count": 97,
     "metadata": {},
     "output_type": "execute_result"
    }
   ],
   "source": [
    "'''21.\tWrite a code to extract all values from a multi-level nested dictionary. \n",
    "It should work for any level and should display only values and not keys'''"
   ]
  },
  {
   "cell_type": "code",
   "execution_count": 112,
   "metadata": {},
   "outputs": [
    {
     "name": "stdout",
     "output_type": "stream",
     "text": [
      "['200', '700', '800']\n"
     ]
    }
   ],
   "source": [
    "d={1:'200',2:{3:'700'},4:'800'}\n",
    "l=[]\n",
    "for k, v in d.items():\n",
    "    if isinstance(v, dict):\n",
    "        v1=v.values()\n",
    "        v1=list(v1)\n",
    "        l.extend(v1)\n",
    "    else:\n",
    "        l.append(v)\n",
    "print(l)"
   ]
  },
  {
   "cell_type": "code",
   "execution_count": 113,
   "metadata": {},
   "outputs": [
    {
     "data": {
      "text/plain": [
       "'22.\\tIterate over a list and count the occurrence of each element. \\nCreate a dictionary to show the count of each element'"
      ]
     },
     "execution_count": 113,
     "metadata": {},
     "output_type": "execute_result"
    }
   ],
   "source": [
    "'''22.\tIterate over a list and count the occurrence of each element. \n",
    "Create a dictionary to show the count of each element'''"
   ]
  },
  {
   "cell_type": "code",
   "execution_count": 117,
   "metadata": {},
   "outputs": [
    {
     "name": "stdout",
     "output_type": "stream",
     "text": [
      "{1: 2, 55: 2, 23: 1, 35: 1, 78: 1, 3: 3, 48: 1, 93: 1}\n"
     ]
    }
   ],
   "source": [
    "l=[1,55,23,1,35,78,3,48,93,3,55,3]\n",
    "d={}\n",
    "for i in l:\n",
    "    if(i not in d):\n",
    "        d[i]=1\n",
    "    else:\n",
    "        d[i]+=1\n",
    "        \n",
    "print(d)\n"
   ]
  },
  {
   "cell_type": "code",
   "execution_count": 118,
   "metadata": {},
   "outputs": [
    {
     "name": "stdout",
     "output_type": "stream",
     "text": [
      "{1: 2, 55: 2, 23: 1, 35: 1, 78: 1, 3: 3, 48: 1, 93: 1}\n"
     ]
    }
   ],
   "source": [
    "l=[1,55,23,1,35,78,3,48,93,3,55,3]\n",
    "d={}\n",
    "for i in l:\n",
    "    c=l.count(i)\n",
    "    d[i]=c\n",
    "print(d)"
   ]
  },
  {
   "cell_type": "code",
   "execution_count": 119,
   "metadata": {},
   "outputs": [
    {
     "data": {
      "text/plain": [
       "'23.\\tGiven a list, remove all duplicates from it and create a tuple \\nand find the minimum and maximum number'"
      ]
     },
     "execution_count": 119,
     "metadata": {},
     "output_type": "execute_result"
    }
   ],
   "source": [
    "'''23.\tGiven a list, remove all duplicates from it and create a tuple \n",
    "and find the minimum and maximum number'''"
   ]
  },
  {
   "cell_type": "code",
   "execution_count": 121,
   "metadata": {},
   "outputs": [
    {
     "name": "stdout",
     "output_type": "stream",
     "text": [
      "{1, 35, 3, 78, 48, 55, 23, 93}\n",
      "(1, 35, 3, 78, 48, 55, 23, 93)\n",
      "93\n",
      "1\n"
     ]
    },
    {
     "data": {
      "text/plain": [
       "'\\nlistb=[1,1,2,4,8,2,9,10]\\nlistc=[]\\nfor i in listb:\\n    if i not in listc:\\n        listc.append(i)\\n        \\nt=tuple(listc)\\nprint(\"tuple without duplicate values: \", t)\\nprint(\"max: \", max(t))\\nprint(\"min: \", min(t))\\n'"
      ]
     },
     "execution_count": 121,
     "metadata": {},
     "output_type": "execute_result"
    }
   ],
   "source": [
    "l=[1,55,23,1,35,78,3,48,93,3,55,3]\n",
    "s=set(l)\n",
    "print(s)\n",
    "t=tuple(s)\n",
    "print(t)\n",
    "print(max(t))\n",
    "print(min(t))\n",
    "\n",
    "\n",
    "\n",
    "'''\n",
    "listb=[1,1,2,4,8,2,9,10]\n",
    "listc=[]\n",
    "for i in listb:\n",
    "    if i not in listc:\n",
    "        listc.append(i)\n",
    "        \n",
    "t=tuple(listc)\n",
    "print(\"tuple without duplicate values: \", t)\n",
    "print(\"max: \", max(t))\n",
    "print(\"min: \", min(t))\n",
    "'''"
   ]
  },
  {
   "cell_type": "code",
   "execution_count": 122,
   "metadata": {},
   "outputs": [
    {
     "data": {
      "text/plain": [
       "'24.\\tA bank has options for recurring deposit with an yearly interest rate of 8% cumulatively.\\nCreate a function which takes the deposit amount, and number of years (n) as an input. \\nThe function would return the amount cumulated at the end of ‘n’ years.  '"
      ]
     },
     "execution_count": 122,
     "metadata": {},
     "output_type": "execute_result"
    }
   ],
   "source": [
    "'''24.\tA bank has options for recurring deposit with an yearly interest rate of 8% cumulatively.\n",
    "Create a function which takes the deposit amount, and number of years (n) as an input. \n",
    "The function would return the amount cumulated at the end of ‘n’ years.  '''"
   ]
  },
  {
   "cell_type": "code",
   "execution_count": 126,
   "metadata": {},
   "outputs": [
    {
     "name": "stdout",
     "output_type": "stream",
     "text": [
      "1166.4\n"
     ]
    }
   ],
   "source": [
    "def calc(p,n):\n",
    "    a=p*((1+8/100)**n)\n",
    "    return a\n",
    "print(calc(1000,2))\n",
    "\n",
    "    "
   ]
  },
  {
   "cell_type": "code",
   "execution_count": null,
   "metadata": {},
   "outputs": [],
   "source": []
  }
 ],
 "metadata": {
  "kernelspec": {
   "display_name": "Python 3",
   "language": "python",
   "name": "python3"
  },
  "language_info": {
   "codemirror_mode": {
    "name": "ipython",
    "version": 3
   },
   "file_extension": ".py",
   "mimetype": "text/x-python",
   "name": "python",
   "nbconvert_exporter": "python",
   "pygments_lexer": "ipython3",
   "version": "3.7.4"
  }
 },
 "nbformat": 4,
 "nbformat_minor": 2
}
