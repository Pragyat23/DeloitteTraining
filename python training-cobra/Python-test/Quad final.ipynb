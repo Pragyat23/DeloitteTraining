{
 "cells": [
  {
   "cell_type": "code",
   "execution_count": 1,
   "metadata": {},
   "outputs": [
    {
     "name": "stdout",
     "output_type": "stream",
     "text": [
      "ans1 :  2.0\n",
      "ans2 :  -4.0\n"
     ]
    }
   ],
   "source": [
    "eq='x2+2x-8=0'\n",
    " #splitting the equation on '='\n",
    "l1=eq.split('=') \n",
    "#further splitting the result on '+'\n",
    "l2=l1[0].split('+')\n",
    "#splitting on  '-'\n",
    "l3=l2[1].split('-') \n",
    "#checking for coffecient of x \n",
    "if len(l2[0])==3:    \n",
    "    a=int(l2[0][0])\n",
    "elif len(l2[0])==2:  \n",
    "    a=1\n",
    "b=int(l2[1][0])\n",
    "c=int(l3[1])\n",
    "import math\n",
    "#calculating b2\n",
    "b1=b*b\n",
    "c1=(-4)*a*c   \n",
    "d=b1-c1  \n",
    "#finding roots\n",
    "x1=((-b)+(math.sqrt(d)))/(2*a)   \n",
    "x2=((-b)-(math.sqrt(d)))/(2*a)  \n",
    "print('ans1 : ',x1)\n",
    "print('ans2 : ',x2)\n"
   ]
  },
  {
   "cell_type": "code",
   "execution_count": null,
   "metadata": {},
   "outputs": [],
   "source": []
  },
  {
   "cell_type": "code",
   "execution_count": null,
   "metadata": {},
   "outputs": [],
   "source": []
  }
 ],
 "metadata": {
  "kernelspec": {
   "display_name": "Python 3",
   "language": "python",
   "name": "python3"
  },
  "language_info": {
   "codemirror_mode": {
    "name": "ipython",
    "version": 3
   },
   "file_extension": ".py",
   "mimetype": "text/x-python",
   "name": "python",
   "nbconvert_exporter": "python",
   "pygments_lexer": "ipython3",
   "version": "3.7.4"
  }
 },
 "nbformat": 4,
 "nbformat_minor": 2
}
