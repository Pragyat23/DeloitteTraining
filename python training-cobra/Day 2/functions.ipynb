{
 "cells": [
  {
   "cell_type": "code",
   "execution_count": 1,
   "metadata": {},
   "outputs": [],
   "source": [
    "#functions"
   ]
  },
  {
   "cell_type": "code",
   "execution_count": 2,
   "metadata": {},
   "outputs": [],
   "source": [
    "def funca():\n",
    "    print('Hi')\n",
    "    print('Hello')\n",
    "    "
   ]
  },
  {
   "cell_type": "code",
   "execution_count": 3,
   "metadata": {},
   "outputs": [
    {
     "name": "stdout",
     "output_type": "stream",
     "text": [
      "Hi\n",
      "Hello\n"
     ]
    }
   ],
   "source": [
    "funca()"
   ]
  },
  {
   "cell_type": "code",
   "execution_count": 4,
   "metadata": {},
   "outputs": [
    {
     "name": "stdout",
     "output_type": "stream",
     "text": [
      "Hi\n",
      "Hello\n"
     ]
    }
   ],
   "source": [
    "x=funca()"
   ]
  },
  {
   "cell_type": "code",
   "execution_count": 5,
   "metadata": {},
   "outputs": [
    {
     "name": "stdout",
     "output_type": "stream",
     "text": [
      "None\n"
     ]
    }
   ],
   "source": [
    "print(x)   #function returns None by default"
   ]
  },
  {
   "cell_type": "code",
   "execution_count": 15,
   "metadata": {},
   "outputs": [],
   "source": [
    "def funa():\n",
    "    return 2,72.35,'Hello',['a','b']\n",
    "\n",
    "a,b,c,d=funa()\n",
    "\n"
   ]
  },
  {
   "cell_type": "code",
   "execution_count": 17,
   "metadata": {},
   "outputs": [
    {
     "name": "stdout",
     "output_type": "stream",
     "text": [
      "2\t72.35\tHello\t['a', 'b']\n",
      "(2, 72.35, 'Hello', ['a', 'b'])\n"
     ]
    }
   ],
   "source": [
    "print(a,b,c,d,sep='\\t')\n",
    "funa()  #returns tuple if multiple values are returned and assigned to 1 or no variable\n",
    "x=funa()\n",
    "print(x)"
   ]
  },
  {
   "cell_type": "code",
   "execution_count": 18,
   "metadata": {},
   "outputs": [
    {
     "data": {
      "text/plain": [
       "5"
      ]
     },
     "execution_count": 18,
     "metadata": {},
     "output_type": "execute_result"
    }
   ],
   "source": [
    "def funb(a,b):\n",
    "    return(a+b)\n",
    "\n",
    "funb(2,3)"
   ]
  },
  {
   "cell_type": "code",
   "execution_count": 21,
   "metadata": {},
   "outputs": [
    {
     "name": "stdout",
     "output_type": "stream",
     "text": [
      "1 10 100\n",
      "1 20 100\n"
     ]
    }
   ],
   "source": [
    "#default parameter variable\n",
    "def func(a,b=10,c=100):  #default is to the rightmost\n",
    "    print(a,b,c)\n",
    "    \n",
    "func(1)\n",
    "func(1,20)\n"
   ]
  },
  {
   "cell_type": "code",
   "execution_count": 22,
   "metadata": {},
   "outputs": [
    {
     "name": "stdout",
     "output_type": "stream",
     "text": [
      "100 100 100\n"
     ]
    }
   ],
   "source": [
    "def func(a=100,b=10,c=100):  #default is to the rightmost\n",
    "    print(a,b,c)\n",
    "    \n",
    "func(b=100)  #named argument\n"
   ]
  },
  {
   "cell_type": "code",
   "execution_count": 1,
   "metadata": {},
   "outputs": [],
   "source": [
    "def funce(la=10, lb=10, *args):\n",
    "    print(\"la = \", la)\n",
    "    print(\"lb = \", lb)\n",
    "    return None"
   ]
  },
  {
   "cell_type": "code",
   "execution_count": 2,
   "metadata": {},
   "outputs": [],
   "source": [
    "def funce(la=10, lb=10, *ttt):\n",
    "    print(\"la = \", la)\n",
    "    print(\"lb = \", lb)\n",
    "    return None"
   ]
  },
  {
   "cell_type": "code",
   "execution_count": 3,
   "metadata": {},
   "outputs": [
    {
     "name": "stdout",
     "output_type": "stream",
     "text": [
      "la =  100\n",
      "lb =  200\n"
     ]
    }
   ],
   "source": [
    "funce(100, 200, 333, 444, 555)"
   ]
  },
  {
   "cell_type": "code",
   "execution_count": 4,
   "metadata": {},
   "outputs": [],
   "source": [
    "def funce(la=10, lb=10, *ttt):\n",
    "    print(\"la = \", la)\n",
    "    print(\"lb = \", lb)\n",
    "    print(\"tuple values are:\")\n",
    "    for val in ttt:\n",
    "        print(val)\n",
    "    return None"
   ]
  },
  {
   "cell_type": "code",
   "execution_count": 5,
   "metadata": {},
   "outputs": [
    {
     "name": "stdout",
     "output_type": "stream",
     "text": [
      "la =  100\n",
      "lb =  200\n",
      "tuple values are:\n",
      "333\n",
      "444\n",
      "555\n"
     ]
    }
   ],
   "source": [
    "funce(100, 200, 333, 444, 555)"
   ]
  },
  {
   "cell_type": "code",
   "execution_count": 6,
   "metadata": {},
   "outputs": [],
   "source": [
    "def funcf():\n",
    "    \"\"\"function to show\n",
    "    how to receive multiple values\"\"\"\n",
    "    print(\"la = \", la)\n",
    "    print(\"lb = \", lb)\n",
    "    print(\"tuple values are:\")\n",
    "    for val in ttt:\n",
    "        print(val)\n",
    "    return None"
   ]
  },
  {
   "cell_type": "code",
   "execution_count": 7,
   "metadata": {},
   "outputs": [
    {
     "name": "stdout",
     "output_type": "stream",
     "text": [
      "<class 'function'>\n"
     ]
    }
   ],
   "source": [
    "print(type(funcf))"
   ]
  },
  {
   "cell_type": "code",
   "execution_count": 8,
   "metadata": {},
   "outputs": [
    {
     "name": "stdout",
     "output_type": "stream",
     "text": [
      "function to show\n",
      "    how to receive multiple values\n"
     ]
    }
   ],
   "source": [
    "print(funcf.__doc__)"
   ]
  },
  {
   "cell_type": "code",
   "execution_count": 9,
   "metadata": {},
   "outputs": [
    {
     "name": "stdout",
     "output_type": "stream",
     "text": [
      "Help on function funcf in module __main__:\n",
      "\n",
      "funcf()\n",
      "    function to show\n",
      "    how to receive multiple values\n",
      "\n"
     ]
    }
   ],
   "source": [
    "help(funcf)"
   ]
  },
  {
   "cell_type": "code",
   "execution_count": 10,
   "metadata": {},
   "outputs": [],
   "source": [
    "def funcg():\n",
    "    print(\"outer \")\n",
    "    # do something\n",
    "    def funch():\n",
    "        print(\"in inner\")\n",
    "        return 23\n",
    "    print(\"back to outer\")"
   ]
  },
  {
   "cell_type": "code",
   "execution_count": 11,
   "metadata": {},
   "outputs": [
    {
     "name": "stdout",
     "output_type": "stream",
     "text": [
      "outer \n",
      "back to outer\n"
     ]
    }
   ],
   "source": [
    "funcg()"
   ]
  },
  {
   "cell_type": "code",
   "execution_count": 68,
   "metadata": {},
   "outputs": [],
   "source": [
    "def funcg():\n",
    "    print(\"outer \")\n",
    "    # do something\n",
    "    def funch():\n",
    "        print(\"in inner\")\n",
    "        return 23\n",
    "    x = funch()\n",
    "    print(x)\n",
    "    print(\"back to outer\")"
   ]
  },
  {
   "cell_type": "code",
   "execution_count": 69,
   "metadata": {},
   "outputs": [
    {
     "name": "stdout",
     "output_type": "stream",
     "text": [
      "outer \n",
      "in inner\n",
      "23\n",
      "back to outer\n"
     ]
    }
   ],
   "source": [
    "funcg()"
   ]
  },
  {
   "cell_type": "code",
   "execution_count": 70,
   "metadata": {},
   "outputs": [],
   "source": [
    "#   decorators"
   ]
  },
  {
   "cell_type": "code",
   "execution_count": 71,
   "metadata": {},
   "outputs": [],
   "source": [
    "item1 = \"chicken\"\n",
    "item2 = \"paneer\""
   ]
  },
  {
   "cell_type": "code",
   "execution_count": 76,
   "metadata": {},
   "outputs": [],
   "source": [
    "def sandwich(la):\n",
    "    print(\"having\", la, \"sandwich\")"
   ]
  },
  {
   "cell_type": "code",
   "execution_count": 77,
   "metadata": {},
   "outputs": [],
   "source": [
    "def burger(la):\n",
    "    print(\"having\", la, \"burger\")"
   ]
  },
  {
   "cell_type": "code",
   "execution_count": 78,
   "metadata": {},
   "outputs": [
    {
     "name": "stdout",
     "output_type": "stream",
     "text": [
      "having chicken sandwich\n"
     ]
    }
   ],
   "source": [
    "sandwich(item1)"
   ]
  },
  {
   "cell_type": "code",
   "execution_count": 79,
   "metadata": {},
   "outputs": [],
   "source": [
    "def snacks(gen, la):\n",
    "    gen(la)"
   ]
  },
  {
   "cell_type": "code",
   "execution_count": 80,
   "metadata": {},
   "outputs": [
    {
     "name": "stdout",
     "output_type": "stream",
     "text": [
      "having paneer sandwich\n"
     ]
    }
   ],
   "source": [
    "snacks(sandwich, item2)"
   ]
  },
  {
   "cell_type": "code",
   "execution_count": 81,
   "metadata": {},
   "outputs": [
    {
     "name": "stdout",
     "output_type": "stream",
     "text": [
      "having chicken burger\n"
     ]
    }
   ],
   "source": [
    "snacks(burger, item1)"
   ]
  },
  {
   "cell_type": "code",
   "execution_count": 82,
   "metadata": {},
   "outputs": [
    {
     "name": "stdout",
     "output_type": "stream",
     "text": [
      "having salad burger\n"
     ]
    }
   ],
   "source": [
    "snacks(burger, 'salad')"
   ]
  },
  {
   "cell_type": "code",
   "execution_count": 83,
   "metadata": {},
   "outputs": [],
   "source": [
    "#    higher order functions"
   ]
  },
  {
   "cell_type": "code",
   "execution_count": 84,
   "metadata": {},
   "outputs": [],
   "source": [
    "listf = [sandwich, burger]"
   ]
  },
  {
   "cell_type": "code",
   "execution_count": 85,
   "metadata": {},
   "outputs": [],
   "source": [
    "def food(gen, items):\n",
    "    for val in gen:\n",
    "        val(items)\n",
    "            # gen[0](items)"
   ]
  },
  {
   "cell_type": "code",
   "execution_count": 86,
   "metadata": {},
   "outputs": [
    {
     "name": "stdout",
     "output_type": "stream",
     "text": [
      "having chicken sandwich\n",
      "having chicken burger\n"
     ]
    }
   ],
   "source": [
    "food(listf, item1)"
   ]
  },
  {
   "cell_type": "code",
   "execution_count": 87,
   "metadata": {},
   "outputs": [],
   "source": [
    "ga = 0\n",
    "def funci():\n",
    "    print(ga)"
   ]
  },
  {
   "cell_type": "code",
   "execution_count": 88,
   "metadata": {},
   "outputs": [
    {
     "name": "stdout",
     "output_type": "stream",
     "text": [
      "0\n"
     ]
    }
   ],
   "source": [
    "funci()"
   ]
  },
  {
   "cell_type": "code",
   "execution_count": 91,
   "metadata": {},
   "outputs": [],
   "source": [
    "def funci():\n",
    "    ga = 1\n",
    "    print(ga)\n",
    "    ga = ga+1"
   ]
  },
  {
   "cell_type": "code",
   "execution_count": 92,
   "metadata": {},
   "outputs": [
    {
     "name": "stdout",
     "output_type": "stream",
     "text": [
      "1\n"
     ]
    }
   ],
   "source": [
    "funci()"
   ]
  },
  {
   "cell_type": "code",
   "execution_count": 93,
   "metadata": {},
   "outputs": [],
   "source": [
    "def funci():\n",
    "    global ga\n",
    "    print(ga)\n",
    "    ga = ga+1"
   ]
  },
  {
   "cell_type": "code",
   "execution_count": 94,
   "metadata": {},
   "outputs": [
    {
     "name": "stdout",
     "output_type": "stream",
     "text": [
      "0\n"
     ]
    }
   ],
   "source": [
    "funci()"
   ]
  },
  {
   "cell_type": "code",
   "execution_count": 95,
   "metadata": {},
   "outputs": [
    {
     "name": "stdout",
     "output_type": "stream",
     "text": [
      "1\n"
     ]
    }
   ],
   "source": [
    "funci()"
   ]
  },
  {
   "cell_type": "code",
   "execution_count": 96,
   "metadata": {},
   "outputs": [
    {
     "name": "stdout",
     "output_type": "stream",
     "text": [
      "2\n"
     ]
    }
   ],
   "source": [
    "funci()"
   ]
  },
  {
   "cell_type": "code",
   "execution_count": 97,
   "metadata": {},
   "outputs": [],
   "source": [
    "#   nonlocal"
   ]
  },
  {
   "cell_type": "code",
   "execution_count": 98,
   "metadata": {},
   "outputs": [],
   "source": [
    "def funce(la=10, lb=10, *args, **kwargs):\n",
    "    print(\"la = \", la)\n",
    "    print(\"lb = \", lb)\n",
    "    print(\"tuple values are:\")\n",
    "    for val in args:\n",
    "        print(val)\n",
    "    print(\"key value pairs are:\")\n",
    "    for k, v in kwargs.items():\n",
    "        print(k, \":\", v)\n",
    "    return None"
   ]
  },
  {
   "cell_type": "code",
   "execution_count": 99,
   "metadata": {},
   "outputs": [
    {
     "name": "stdout",
     "output_type": "stream",
     "text": [
      "la =  33\n",
      "lb =  66\n",
      "tuple values are:\n",
      "100\n",
      "200\n",
      "300\n",
      "key value pairs are:\n",
      "thor : hammer\n",
      "captain : shield\n"
     ]
    }
   ],
   "source": [
    "funce(33, 66, 100, 200, 300, thor='hammer', captain='shield')"
   ]
  },
  {
   "cell_type": "code",
   "execution_count": 103,
   "metadata": {},
   "outputs": [
    {
     "name": "stdout",
     "output_type": "stream",
     "text": [
      "la =  33\n",
      "lb =  100\n",
      "tuple values are:\n",
      "200\n",
      "300\n",
      "key value pairs are:\n",
      "thor : hammer\n",
      "captain : shield\n"
     ]
    }
   ],
   "source": [
    "funce(33, 100, 200, 300, thor='hammer', captain='shield')"
   ]
  },
  {
   "cell_type": "code",
   "execution_count": null,
   "metadata": {},
   "outputs": [],
   "source": []
  }
 ],
 "metadata": {
  "kernelspec": {
   "display_name": "Python 3",
   "language": "python",
   "name": "python3"
  },
  "language_info": {
   "codemirror_mode": {
    "name": "ipython",
    "version": 3
   },
   "file_extension": ".py",
   "mimetype": "text/x-python",
   "name": "python",
   "nbconvert_exporter": "python",
   "pygments_lexer": "ipython3",
   "version": "3.7.4"
  }
 },
 "nbformat": 4,
 "nbformat_minor": 2
}
