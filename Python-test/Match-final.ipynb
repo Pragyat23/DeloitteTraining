{
 "cells": [
  {
   "cell_type": "code",
   "execution_count": null,
   "metadata": {},
   "outputs": [],
   "source": [
    "def match:\n",
    "    print('enter 1 for team1 and 2 for team2')\n",
    "    #taking result input from user for the winner\n",
    "    g1=input('who won between {0} and {1}'.format(t1,t2))\n",
    "    g2=input('who won between {0} and {1}'.format(t1,t3))\n",
    "    g3=input('who won between {0} and {1}'.format(t1,t4))\n",
    "    g4=input('who won between {0} and {1}'.format(t2,t3))\n",
    "    g5=input('who won between {0} and {1}'.format(t2,t4))\n",
    "    g6=input('who won between {0} and {1}'.format(t3,t4))\n",
    "    \n",
    "    #calculate the score for each team\n",
    "    if(g1==1):\n",
    "        t1_score=1\n",
    "    else:\n",
    "        t2_score=1\n",
    "        \n",
    "    if(g2==1):\n",
    "        t1_score+=1\n",
    "    else:\n",
    "        t3_score=1\n",
    "        \n",
    "    if(g3==1):\n",
    "        t1_score+=1\n",
    "    else:\n",
    "        t4_score=1\n",
    "    \n",
    "    if(g4==1):\n",
    "        t2_score+=1\n",
    "    else:\n",
    "        t3_score+=1\n",
    "        \n",
    "    if(g5==1):\n",
    "        t2_score+=1\n",
    "    else:\n",
    "        t4_score+=1\n",
    "        \n",
    "    if(g6==1):\n",
    "        t3_score+=1\n",
    "    else:\n",
    "        t4_score+=1"
   ]
  }
 ],
 "metadata": {
  "kernelspec": {
   "display_name": "Python 3",
   "language": "python",
   "name": "python3"
  },
  "language_info": {
   "codemirror_mode": {
    "name": "ipython",
    "version": 3
   },
   "file_extension": ".py",
   "mimetype": "text/x-python",
   "name": "python",
   "nbconvert_exporter": "python",
   "pygments_lexer": "ipython3",
   "version": "3.7.4"
  }
 },
 "nbformat": 4,
 "nbformat_minor": 2
}
