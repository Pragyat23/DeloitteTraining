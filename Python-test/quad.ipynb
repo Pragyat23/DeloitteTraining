{
 "cells": [
  {
   "cell_type": "code",
   "execution_count": 95,
   "metadata": {},
   "outputs": [
    {
     "name": "stdout",
     "output_type": "stream",
     "text": [
      "x2+2x-8=0\n"
     ]
    }
   ],
   "source": [
    "eq='x2+2x-8=0'\n",
    "print(eq) #x2+2x-8=0"
   ]
  },
  {
   "cell_type": "code",
   "execution_count": 96,
   "metadata": {},
   "outputs": [
    {
     "name": "stdout",
     "output_type": "stream",
     "text": [
      "x2+2x-8\n"
     ]
    }
   ],
   "source": [
    "l1=eq.split('=')  #splitting the equation on '='\n",
    "print(l1[0])"
   ]
  },
  {
   "cell_type": "code",
   "execution_count": 97,
   "metadata": {},
   "outputs": [
    {
     "name": "stdout",
     "output_type": "stream",
     "text": [
      "['x2', '2x-8']\n",
      "['2x', '8']\n",
      "1\n",
      "2\n",
      "8\n"
     ]
    }
   ],
   "source": [
    "l2=l1[0].split('+') #further splitting the result on '+'\n",
    "print(l2)\n",
    "l3=l2[1].split('-') #splitting on  '-'\n",
    "print(l3)\n",
    "\n",
    "if len(l2[0])==3:    #checking for coffecient of x \n",
    "    a=int(l2[0][0])\n",
    "elif len(l2[0])==2:  \n",
    "    a=1\n",
    "print(a)\n",
    "\n",
    "b=int(l2[1][0])\n",
    "print(b)\n",
    "print(c)\n",
    "\n",
    "c=int(l3[1])\n"
   ]
  },
  {
   "cell_type": "code",
   "execution_count": 98,
   "metadata": {},
   "outputs": [
    {
     "name": "stdout",
     "output_type": "stream",
     "text": [
      "a : 1\n",
      "b : 2\n",
      "c : 8\n"
     ]
    }
   ],
   "source": [
    "print('a :',a)\n",
    "print('b :',b)\n",
    "print('c :',c)"
   ]
  },
  {
   "cell_type": "code",
   "execution_count": 99,
   "metadata": {},
   "outputs": [],
   "source": [
    "import math"
   ]
  },
  {
   "cell_type": "code",
   "execution_count": 100,
   "metadata": {},
   "outputs": [
    {
     "name": "stdout",
     "output_type": "stream",
     "text": [
      "4\n",
      "-32\n",
      "36\n"
     ]
    }
   ],
   "source": [
    "print(b*b)   #calculating b2\n",
    "b1=b*b\n",
    "\n",
    "c1=(-4)*a*c   \n",
    "print(c1)\n",
    "\n",
    "d=b1-c1  \n",
    "print(d)"
   ]
  },
  {
   "cell_type": "code",
   "execution_count": 101,
   "metadata": {},
   "outputs": [],
   "source": [
    "x1=((-b)+(math.sqrt(d)))/(2*a)   #finding roots\n",
    "x2=((-b)-(math.sqrt(d)))/(2*a)  "
   ]
  },
  {
   "cell_type": "code",
   "execution_count": 102,
   "metadata": {},
   "outputs": [
    {
     "name": "stdout",
     "output_type": "stream",
     "text": [
      "ans1 :  2.0\n",
      "ans2 :  -4.0\n"
     ]
    }
   ],
   "source": [
    "print('ans1 : ',x1)\n",
    "print('ans2 : ',x2)"
   ]
  },
  {
   "cell_type": "code",
   "execution_count": null,
   "metadata": {},
   "outputs": [],
   "source": []
  }
 ],
 "metadata": {
  "kernelspec": {
   "display_name": "Python 3",
   "language": "python",
   "name": "python3"
  },
  "language_info": {
   "codemirror_mode": {
    "name": "ipython",
    "version": 3
   },
   "file_extension": ".py",
   "mimetype": "text/x-python",
   "name": "python",
   "nbconvert_exporter": "python",
   "pygments_lexer": "ipython3",
   "version": "3.7.4"
  }
 },
 "nbformat": 4,
 "nbformat_minor": 2
}
